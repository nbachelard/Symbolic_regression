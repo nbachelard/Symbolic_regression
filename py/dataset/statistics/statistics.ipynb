{
 "cells": [
  {
   "cell_type": "code",
   "execution_count": 13,
   "id": "27839eb0-0c01-4c55-8bef-1b8226621ae4",
   "metadata": {},
   "outputs": [],
   "source": [
    "import numpy as np\n",
    "import pandas as pd\n",
    "import sympy as sp\n",
    "import matplotlib.pyplot as plt\n",
    "\n",
    "from tqdm import tqdm"
   ]
  },
  {
   "cell_type": "code",
   "execution_count": 163,
   "id": "2407b4a8-2d97-43c3-af04-b576931c3057",
   "metadata": {},
   "outputs": [],
   "source": [
    "D_MAX = 10\n",
    "VARIABLES = [f'x{i}' for i in range(D_MAX)]\n",
    "SYMBOLS = list(sp.symbols(' '.join(VARIABLES)))\n",
    "\n",
    "class Sqr(sp.Function):\n",
    "    @classmethod\n",
    "    def eval(cls, x):\n",
    "        return x ** 2\n",
    "    \n",
    "class Inv(sp.Function):\n",
    "    @classmethod\n",
    "    def eval(cls, x):\n",
    "        return 1 / x\n",
    "    \n",
    "class Abs(sp.Function):\n",
    "    @classmethod\n",
    "    def eval(cls, x):\n",
    "        return sp.Abs(x)\n",
    "\n",
    "class Atan(sp.Function):\n",
    "    @classmethod\n",
    "    def eval(cls, x):\n",
    "        return sp.atan(x)\n",
    "\n",
    "class Asin(sp.Function):\n",
    "    @classmethod\n",
    "    def eval(cls, x):\n",
    "        return sp.asin(x)\n",
    "\n",
    "class Acos(sp.Function):\n",
    "    @classmethod\n",
    "    def eval(cls, x):\n",
    "        return sp.acos(x)\n",
    "\n",
    "class Tanh (sp.Function):\n",
    "    @classmethod\n",
    "    def eval(cls, x):\n",
    "        return sp.tanh(x)\n",
    "\n",
    "symbol_dict = {str(var): var for var in SYMBOLS}\n",
    "symbol_dict['inv'] = Inv\n",
    "#symbol_dict['sqr'] = Sqr\n",
    "symbol_dict['abs'] = Abs\n",
    "symbol_dict['arctan'] = Atan\n",
    "symbol_dict['arcsin'] = Asin\n",
    "symbol_dict['arccos'] = Acos\n",
    "symbol_dict['tanh'] = Tanh"
   ]
  },
  {
   "cell_type": "code",
   "execution_count": 166,
   "id": "4e0e5152-6827-439b-a403-0d5c1437ebca",
   "metadata": {},
   "outputs": [],
   "source": [
    "#use healed files attached\n",
    "\n",
    "df1 = pd.read_csv('FeynmanEquations.csv')\n",
    "df2 = pd.read_csv('BonusEquations.csv')\n",
    "df1 = df1[df1['Formula'].notnull()]\n",
    "df2 = df2[df2['Formula'].notnull()]"
   ]
  },
  {
   "cell_type": "code",
   "execution_count": 167,
   "id": "41f8698a-6a3c-4a00-9c7b-27de1a5e9691",
   "metadata": {},
   "outputs": [
    {
     "name": "stderr",
     "output_type": "stream",
     "text": [
      "100it [00:00, 6401.17it/s]\n",
      "20it [00:00, ?it/s]\n"
     ]
    }
   ],
   "source": [
    "feynman_expressions = []\n",
    "\n",
    "for index, row in tqdm(df1.iterrows()):\n",
    "    for i in range (1, int(row['# variables']+1)):\n",
    "        row['Formula'] = row['Formula'].replace(row[f\"v{i}_name\"], f\"x{i}\")\n",
    "    row['Formula'] = row['Formula'].replace(\"pi\", \"3.1415\")\n",
    "    feynman_expressions.append((int(row['Number']), int(row['# variables']), row['Formula']))#, row['Formula'].count('(') - row['Formula'].count(')')))\n",
    "\n",
    "for index, row in tqdm(df2.iterrows()):\n",
    "    for i in range (1, int(row['# variables']+1)):\n",
    "        row['Formula'] = row['Formula'].replace(row[f\"v{i}_name\"], f\"x{i}\")\n",
    "    row['Formula'] = row['Formula'].replace(\"pi\", \"3.1415\")\n",
    "    feynman_expressions.append((200+int(row['Number']), int(row['# variables']), row['Formula']))#, row['Formula'].count('(') - row['Formula'].count(')')))"
   ]
  },
  {
   "cell_type": "code",
   "execution_count": 168,
   "id": "55196c13-aad4-40b4-8abb-a008c0acd62b",
   "metadata": {},
   "outputs": [],
   "source": [
    "from concurrent.futures import ThreadPoolExecutor, ProcessPoolExecutor\n",
    "\n",
    "def simplify(number, num_var, expr):\n",
    "    sympy_expr = sp.sympify(expr, locals=symbol_dict)\n",
    "    return (number, num_var, sp.simplify(sympy_expr))\n",
    "\n",
    "def parallel_simplification(feynman_expressions, timeout=3):\n",
    "    results = []\n",
    "    with ThreadPoolExecutor() as executor:\n",
    "        # Submit tasks to generate and evaluate random expressions\n",
    "        futures = {executor.submit(simplify, number, num_var, expr) : (number, num_var, expr) for (number, num_var, expr) in feynman_expressions}\n",
    "        for future in futures:\n",
    "            try:\n",
    "                result = future.result(timeout=timeout)  # Set the timeout for each thread\n",
    "                results.append(result)\n",
    "            except TimeoutError:\n",
    "                number = futures[future][0]\n",
    "                print(f\"Timeout occurred for expression: {number}\")\n",
    "                results.append(None)  # Append None or any placeholder for timed-out tasks\n",
    "    return results"
   ]
  },
  {
   "cell_type": "code",
   "execution_count": 169,
   "id": "5b3b097d-a99f-4d35-a565-715c3cc13c2c",
   "metadata": {},
   "outputs": [],
   "source": [
    "if __name__ == '__main__':\n",
    "    results = parallel_simplification(feynman_expressions, timeout=3)"
   ]
  },
  {
   "cell_type": "code",
   "execution_count": 181,
   "id": "9f3ebf2e-7585-430c-9d1b-2264c8889e53",
   "metadata": {},
   "outputs": [],
   "source": [
    "def inf_to_pref(expr):\n",
    "    precedence = {\n",
    "        ' + ': 1, ' - ': 1,\n",
    "        ' * ': 2, ' / ': 2\n",
    "    }\n",
    "    stack = []  # Operator stack\n",
    "    output = []  # Prefix output\n",
    "\n",
    "    def precedence_of(op):\n",
    "        return precedence.get(op, 0)\n",
    "    \n",
    "    expr = expr[::-1]  # Reverse the expression for right-to-left traversal\n",
    "\n",
    "    i = 0\n",
    "    while i < len(expr) :\n",
    "        token = expr[i]\n",
    "        if i < len(expr)-3 and (expr[i]+expr[i+1]+expr[i+2]) in precedence:\n",
    "            while (stack and precedence_of(stack[-1]) > precedence_of(expr[i]+expr[i+1]+expr[i+2])):\n",
    "                output.append(stack.pop())\n",
    "            stack.append(expr[i]+expr[i+1]+expr[i+2])\n",
    "            output.append(' ')\n",
    "            i += 3\n",
    "        elif not token in '()' :\n",
    "            output.append(token) # Add operand to the output\n",
    "            i+=1\n",
    "        elif token == ')':  # Closing parenthesis (reversed input)\n",
    "            stack.append(token)\n",
    "            i+=1\n",
    "        elif token == '(':\n",
    "            while stack and stack[-1] != ')':\n",
    "                output.append(stack.pop())\n",
    "            stack.pop()\n",
    "            i+=1# Pop the closing parenthesis\n",
    "                \n",
    "    while stack:\n",
    "        output.append(stack.pop())\n",
    "\n",
    "    return ''.join(output[::-1]).split()  # Reverse the output for prefix format"
   ]
  },
  {
   "cell_type": "code",
   "execution_count": 197,
   "id": "c6ee1637-68cd-4ffe-9bd9-3cc8c9907263",
   "metadata": {},
   "outputs": [],
   "source": [
    "pref_results = []\n",
    "\n",
    "for (number, num_var, expr) in results :\n",
    "    expr = str(expr)\n",
    "    expr = expr.replace('(', '( ')\n",
    "    expr = expr.replace(')', ' )')\n",
    "    expr = expr.replace('*', ' * ')\n",
    "    expr = expr.replace('/', ' / ')\n",
    "    pref_expr = inf_to_pref(expr)\n",
    "    pref_results.append((number, num_var, pref_expr))"
   ]
  },
  {
   "cell_type": "code",
   "execution_count": 199,
   "id": "e3fdf0a7-b00d-408f-9d3a-4b63346e637f",
   "metadata": {},
   "outputs": [
    {
     "data": {
      "text/plain": [
       "((1, 1, 0.398948163444861*exp(-0.5*sqr(x1))),\n",
       " (1, 1, ['*', '0.398948163444861', 'exp', '*', '-0.5', 'sqr', 'x1']))"
      ]
     },
     "execution_count": 199,
     "metadata": {},
     "output_type": "execute_result"
    }
   ],
   "source": [
    "results[0], pref_results[0]"
   ]
  }
 ],
 "metadata": {
  "kernelspec": {
   "display_name": "Python 3 (ipykernel)",
   "language": "python",
   "name": "python3"
  },
  "language_info": {
   "codemirror_mode": {
    "name": "ipython",
    "version": 3
   },
   "file_extension": ".py",
   "mimetype": "text/x-python",
   "name": "python",
   "nbconvert_exporter": "python",
   "pygments_lexer": "ipython3",
   "version": "3.12.3"
  }
 },
 "nbformat": 4,
 "nbformat_minor": 5
}
